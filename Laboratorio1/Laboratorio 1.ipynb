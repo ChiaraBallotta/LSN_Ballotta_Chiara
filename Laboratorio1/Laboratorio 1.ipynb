{
 "cells": [
  {
   "cell_type": "markdown",
   "id": "5f10894a-7e98-4c94-bd5e-c124042f9d1c",
   "metadata": {},
   "source": [
    "# <font color = 'violet'>Laboratorio 1"
   ]
  },
  {
   "cell_type": "markdown",
   "id": "612ad8e2-d37c-40f4-92f7-cc9adeab4c89",
   "metadata": {},
   "source": [
    "### Exercise 01.1\n",
    "\n",
    "    "
   ]
  },
  {
   "cell_type": "markdown",
   "id": "fbc9570b-c967-4e3c-abe9-f3228007bb85",
   "metadata": {},
   "source": [
    "1. $\\langle r \\rangle = \\int_0^1 r dr = 1/2$. <font color=\"red\">Make a picture of the estimation of $\\langle r \\rangle$ and its uncertainty (which corresponds to Standard Deviation of the mean for the estimation of $\\langle r \\rangle$) with a large number of *throws* $M$ (e.g. $M\\ge 10^4$) as a function of the number of blocks, $N$</font> (see below: Computing statistical uncertainties)."
   ]
  },
  {
   "cell_type": "code",
   "execution_count": 6,
   "id": "fd13504a-174e-48f6-becd-d0e60a8df7f1",
   "metadata": {},
   "outputs": [
    {
     "data": {
      "image/png": "[encoded data removed]",
      "text/plain": [
       "<Figure size 432x288 with 1 Axes>"
      ]
     },
     "metadata": {
      "needs_background": "light"
     },
     "output_type": "display_data"
    }
   ],
   "source": [
    "import numpy as np\n",
    "import random\n",
    "import math\n",
    "import matplotlib\n",
    "import matplotlib.pyplot as plt\n",
    "%matplotlib inline\n",
    "\n",
    "\n",
    "\n",
    "#inizio a costruire il grafico dei valori medi\n",
    "x, f, error = np.loadtxt(\"Dati.dat\", usecols=(0,1,2), delimiter=None, unpack='true')\n",
    "plt.errorbar(x,f ,yerr=error,color ='violet')\n",
    "plt.xlabel('#throws')\n",
    "plt.ylabel('<r>')\n",
    "plt.grid(True)\n",
    "\n",
    "plt.show()"
   ]
  },
  {
   "cell_type": "markdown",
   "id": "d2ffc873",
   "metadata": {},
   "source": [
    "2. $\\sigma^2 = \\int_0^1 (r-1/2)^2 dr = 1/12$. <font color=\"red\">Make a picture of the estimation of $\\sigma^2$ and its uncertainty (which corresponds to Standard Deviation of the mean for the estimation of $\\langle (r-1/2)^2 \\rangle$) with a large number of *throws* $M$ (e.g. $M\\ge 10^4$) as a function of the number of blocks, $N$</font> (see below: Computing statistical uncertainties)."
   ]
  },
  {
   "cell_type": "code",
   "execution_count": null,
   "id": "1e3e9369-2a4a-4fad-b0d5-4f37889a9cab",
   "metadata": {},
   "outputs": [],
   "source": []
  }
 ],
 "metadata": {
  "kernelspec": {
   "display_name": "Python 3",
   "language": "python",
   "name": "python3"
  },
  "language_info": {
   "codemirror_mode": {
    "name": "ipython",
    "version": 3
   },
   "file_extension": ".py",
   "mimetype": "text/x-python",
   "name": "python",
   "nbconvert_exporter": "python",
   "pygments_lexer": "ipython3",
   "version": "3.8.8"
  }
 },
 "nbformat": 4,
 "nbformat_minor": 5
}
